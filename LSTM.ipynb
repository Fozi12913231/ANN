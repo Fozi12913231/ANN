{
 "cells": [
  {
   "cell_type": "code",
   "execution_count": 1,
   "id": "d054379a",
   "metadata": {},
   "outputs": [],
   "source": [
    "import numpy as np\n",
    "import pandas as pd\n",
    "import matplotlib.pyplot as plt\n",
    "from sklearn.preprocessing import MinMaxScaler\n",
    "from keras.models import Sequential\n",
    "from keras.layers import Dense, LSTM"
   ]
  },
  {
   "cell_type": "code",
   "execution_count": 2,
   "id": "fc817f47",
   "metadata": {},
   "outputs": [],
   "source": [
    "df = pd.read_csv('Microsoft_Stock.csv')"
   ]
  },
  {
   "cell_type": "code",
   "execution_count": 3,
   "id": "76749401",
   "metadata": {},
   "outputs": [
    {
     "data": {
      "text/html": [
       "<div>\n",
       "<style scoped>\n",
       "    .dataframe tbody tr th:only-of-type {\n",
       "        vertical-align: middle;\n",
       "    }\n",
       "\n",
       "    .dataframe tbody tr th {\n",
       "        vertical-align: top;\n",
       "    }\n",
       "\n",
       "    .dataframe thead th {\n",
       "        text-align: right;\n",
       "    }\n",
       "</style>\n",
       "<table border=\"1\" class=\"dataframe\">\n",
       "  <thead>\n",
       "    <tr style=\"text-align: right;\">\n",
       "      <th></th>\n",
       "      <th>Date</th>\n",
       "      <th>Open</th>\n",
       "      <th>High</th>\n",
       "      <th>Low</th>\n",
       "      <th>Close</th>\n",
       "      <th>Adj Close</th>\n",
       "      <th>Volume</th>\n",
       "    </tr>\n",
       "  </thead>\n",
       "  <tbody>\n",
       "    <tr>\n",
       "      <th>0</th>\n",
       "      <td>1986-03-13</td>\n",
       "      <td>0.088542</td>\n",
       "      <td>0.101563</td>\n",
       "      <td>0.088542</td>\n",
       "      <td>0.097222</td>\n",
       "      <td>0.061434</td>\n",
       "      <td>1031788800</td>\n",
       "    </tr>\n",
       "    <tr>\n",
       "      <th>1</th>\n",
       "      <td>1986-03-14</td>\n",
       "      <td>0.097222</td>\n",
       "      <td>0.102431</td>\n",
       "      <td>0.097222</td>\n",
       "      <td>0.100694</td>\n",
       "      <td>0.063628</td>\n",
       "      <td>308160000</td>\n",
       "    </tr>\n",
       "    <tr>\n",
       "      <th>2</th>\n",
       "      <td>1986-03-17</td>\n",
       "      <td>0.100694</td>\n",
       "      <td>0.103299</td>\n",
       "      <td>0.100694</td>\n",
       "      <td>0.102431</td>\n",
       "      <td>0.064725</td>\n",
       "      <td>133171200</td>\n",
       "    </tr>\n",
       "    <tr>\n",
       "      <th>3</th>\n",
       "      <td>1986-03-18</td>\n",
       "      <td>0.102431</td>\n",
       "      <td>0.103299</td>\n",
       "      <td>0.098958</td>\n",
       "      <td>0.099826</td>\n",
       "      <td>0.063079</td>\n",
       "      <td>67766400</td>\n",
       "    </tr>\n",
       "    <tr>\n",
       "      <th>4</th>\n",
       "      <td>1986-03-19</td>\n",
       "      <td>0.099826</td>\n",
       "      <td>0.100694</td>\n",
       "      <td>0.097222</td>\n",
       "      <td>0.098090</td>\n",
       "      <td>0.061982</td>\n",
       "      <td>47894400</td>\n",
       "    </tr>\n",
       "    <tr>\n",
       "      <th>...</th>\n",
       "      <td>...</td>\n",
       "      <td>...</td>\n",
       "      <td>...</td>\n",
       "      <td>...</td>\n",
       "      <td>...</td>\n",
       "      <td>...</td>\n",
       "      <td>...</td>\n",
       "    </tr>\n",
       "    <tr>\n",
       "      <th>9078</th>\n",
       "      <td>2022-03-18</td>\n",
       "      <td>295.369995</td>\n",
       "      <td>301.000000</td>\n",
       "      <td>292.730011</td>\n",
       "      <td>300.429993</td>\n",
       "      <td>300.429993</td>\n",
       "      <td>43317000</td>\n",
       "    </tr>\n",
       "    <tr>\n",
       "      <th>9079</th>\n",
       "      <td>2022-03-21</td>\n",
       "      <td>298.890015</td>\n",
       "      <td>300.140015</td>\n",
       "      <td>294.899994</td>\n",
       "      <td>299.160004</td>\n",
       "      <td>299.160004</td>\n",
       "      <td>28351200</td>\n",
       "    </tr>\n",
       "    <tr>\n",
       "      <th>9080</th>\n",
       "      <td>2022-03-22</td>\n",
       "      <td>299.799988</td>\n",
       "      <td>305.000000</td>\n",
       "      <td>298.769989</td>\n",
       "      <td>304.059998</td>\n",
       "      <td>304.059998</td>\n",
       "      <td>27599700</td>\n",
       "    </tr>\n",
       "    <tr>\n",
       "      <th>9081</th>\n",
       "      <td>2022-03-23</td>\n",
       "      <td>300.510010</td>\n",
       "      <td>303.230011</td>\n",
       "      <td>297.720001</td>\n",
       "      <td>299.489990</td>\n",
       "      <td>299.489990</td>\n",
       "      <td>25715400</td>\n",
       "    </tr>\n",
       "    <tr>\n",
       "      <th>9082</th>\n",
       "      <td>2022-03-24</td>\n",
       "      <td>299.140015</td>\n",
       "      <td>304.200012</td>\n",
       "      <td>298.320007</td>\n",
       "      <td>304.100006</td>\n",
       "      <td>304.100006</td>\n",
       "      <td>24446900</td>\n",
       "    </tr>\n",
       "  </tbody>\n",
       "</table>\n",
       "<p>9083 rows × 7 columns</p>\n",
       "</div>"
      ],
      "text/plain": [
       "            Date        Open        High         Low       Close   Adj Close  \\\n",
       "0     1986-03-13    0.088542    0.101563    0.088542    0.097222    0.061434   \n",
       "1     1986-03-14    0.097222    0.102431    0.097222    0.100694    0.063628   \n",
       "2     1986-03-17    0.100694    0.103299    0.100694    0.102431    0.064725   \n",
       "3     1986-03-18    0.102431    0.103299    0.098958    0.099826    0.063079   \n",
       "4     1986-03-19    0.099826    0.100694    0.097222    0.098090    0.061982   \n",
       "...          ...         ...         ...         ...         ...         ...   \n",
       "9078  2022-03-18  295.369995  301.000000  292.730011  300.429993  300.429993   \n",
       "9079  2022-03-21  298.890015  300.140015  294.899994  299.160004  299.160004   \n",
       "9080  2022-03-22  299.799988  305.000000  298.769989  304.059998  304.059998   \n",
       "9081  2022-03-23  300.510010  303.230011  297.720001  299.489990  299.489990   \n",
       "9082  2022-03-24  299.140015  304.200012  298.320007  304.100006  304.100006   \n",
       "\n",
       "          Volume  \n",
       "0     1031788800  \n",
       "1      308160000  \n",
       "2      133171200  \n",
       "3       67766400  \n",
       "4       47894400  \n",
       "...          ...  \n",
       "9078    43317000  \n",
       "9079    28351200  \n",
       "9080    27599700  \n",
       "9081    25715400  \n",
       "9082    24446900  \n",
       "\n",
       "[9083 rows x 7 columns]"
      ]
     },
     "execution_count": 3,
     "metadata": {},
     "output_type": "execute_result"
    }
   ],
   "source": [
    "df"
   ]
  },
  {
   "cell_type": "code",
   "execution_count": 4,
   "id": "636fed70",
   "metadata": {},
   "outputs": [
    {
     "data": {
      "text/plain": [
       "(9083, 7)"
      ]
     },
     "execution_count": 4,
     "metadata": {},
     "output_type": "execute_result"
    }
   ],
   "source": [
    "df.shape"
   ]
  },
  {
   "cell_type": "code",
   "execution_count": 5,
   "id": "e48585c3",
   "metadata": {},
   "outputs": [
    {
     "name": "stderr",
     "output_type": "stream",
     "text": [
      "C:\\Users\\Zigron\\AppData\\Local\\Temp\\ipykernel_9060\\2927484946.py:2: SettingWithCopyWarning: \n",
      "A value is trying to be set on a copy of a slice from a DataFrame.\n",
      "Try using .loc[row_indexer,col_indexer] = value instead\n",
      "\n",
      "See the caveats in the documentation: https://pandas.pydata.org/pandas-docs/stable/user_guide/indexing.html#returning-a-view-versus-a-copy\n",
      "  df['Date'] = pd.to_datetime(df['Date'])\n"
     ]
    }
   ],
   "source": [
    "df = df[['Date', 'Open']]\n",
    "df['Date'] = pd.to_datetime(df['Date'])\n",
    "df = df.set_index('Date')"
   ]
  },
  {
   "cell_type": "code",
   "execution_count": 6,
   "id": "2d3a0554",
   "metadata": {},
   "outputs": [
    {
     "data": {
      "text/plain": [
       "(9083, 1)"
      ]
     },
     "execution_count": 6,
     "metadata": {},
     "output_type": "execute_result"
    }
   ],
   "source": [
    "df.shape"
   ]
  },
  {
   "cell_type": "code",
   "execution_count": 7,
   "id": "e5dd6503",
   "metadata": {},
   "outputs": [
    {
     "data": {
      "text/html": [
       "<div>\n",
       "<style scoped>\n",
       "    .dataframe tbody tr th:only-of-type {\n",
       "        vertical-align: middle;\n",
       "    }\n",
       "\n",
       "    .dataframe tbody tr th {\n",
       "        vertical-align: top;\n",
       "    }\n",
       "\n",
       "    .dataframe thead th {\n",
       "        text-align: right;\n",
       "    }\n",
       "</style>\n",
       "<table border=\"1\" class=\"dataframe\">\n",
       "  <thead>\n",
       "    <tr style=\"text-align: right;\">\n",
       "      <th></th>\n",
       "      <th>Open</th>\n",
       "    </tr>\n",
       "    <tr>\n",
       "      <th>Date</th>\n",
       "      <th></th>\n",
       "    </tr>\n",
       "  </thead>\n",
       "  <tbody>\n",
       "    <tr>\n",
       "      <th>1986-03-13</th>\n",
       "      <td>0.088542</td>\n",
       "    </tr>\n",
       "    <tr>\n",
       "      <th>1986-03-14</th>\n",
       "      <td>0.097222</td>\n",
       "    </tr>\n",
       "    <tr>\n",
       "      <th>1986-03-17</th>\n",
       "      <td>0.100694</td>\n",
       "    </tr>\n",
       "    <tr>\n",
       "      <th>1986-03-18</th>\n",
       "      <td>0.102431</td>\n",
       "    </tr>\n",
       "    <tr>\n",
       "      <th>1986-03-19</th>\n",
       "      <td>0.099826</td>\n",
       "    </tr>\n",
       "  </tbody>\n",
       "</table>\n",
       "</div>"
      ],
      "text/plain": [
       "                Open\n",
       "Date                \n",
       "1986-03-13  0.088542\n",
       "1986-03-14  0.097222\n",
       "1986-03-17  0.100694\n",
       "1986-03-18  0.102431\n",
       "1986-03-19  0.099826"
      ]
     },
     "execution_count": 7,
     "metadata": {},
     "output_type": "execute_result"
    }
   ],
   "source": [
    "df.head()"
   ]
  },
  {
   "cell_type": "code",
   "execution_count": 8,
   "id": "431e12d7",
   "metadata": {},
   "outputs": [
    {
     "data": {
      "text/html": [
       "<div>\n",
       "<style scoped>\n",
       "    .dataframe tbody tr th:only-of-type {\n",
       "        vertical-align: middle;\n",
       "    }\n",
       "\n",
       "    .dataframe tbody tr th {\n",
       "        vertical-align: top;\n",
       "    }\n",
       "\n",
       "    .dataframe thead th {\n",
       "        text-align: right;\n",
       "    }\n",
       "</style>\n",
       "<table border=\"1\" class=\"dataframe\">\n",
       "  <thead>\n",
       "    <tr style=\"text-align: right;\">\n",
       "      <th></th>\n",
       "      <th>Open</th>\n",
       "    </tr>\n",
       "    <tr>\n",
       "      <th>Date</th>\n",
       "      <th></th>\n",
       "    </tr>\n",
       "  </thead>\n",
       "  <tbody>\n",
       "    <tr>\n",
       "      <th>2022-03-18</th>\n",
       "      <td>295.369995</td>\n",
       "    </tr>\n",
       "    <tr>\n",
       "      <th>2022-03-21</th>\n",
       "      <td>298.890015</td>\n",
       "    </tr>\n",
       "    <tr>\n",
       "      <th>2022-03-22</th>\n",
       "      <td>299.799988</td>\n",
       "    </tr>\n",
       "    <tr>\n",
       "      <th>2022-03-23</th>\n",
       "      <td>300.510010</td>\n",
       "    </tr>\n",
       "    <tr>\n",
       "      <th>2022-03-24</th>\n",
       "      <td>299.140015</td>\n",
       "    </tr>\n",
       "  </tbody>\n",
       "</table>\n",
       "</div>"
      ],
      "text/plain": [
       "                  Open\n",
       "Date                  \n",
       "2022-03-18  295.369995\n",
       "2022-03-21  298.890015\n",
       "2022-03-22  299.799988\n",
       "2022-03-23  300.510010\n",
       "2022-03-24  299.140015"
      ]
     },
     "execution_count": 8,
     "metadata": {},
     "output_type": "execute_result"
    }
   ],
   "source": [
    "df.tail()"
   ]
  },
  {
   "cell_type": "code",
   "execution_count": 9,
   "id": "a612c41b",
   "metadata": {},
   "outputs": [
    {
     "data": {
      "text/plain": [
       "[<matplotlib.lines.Line2D at 0x2856050c640>]"
      ]
     },
     "execution_count": 9,
     "metadata": {},
     "output_type": "execute_result"
    },
    {
     "data": {
      "image/png": "[encoded data removed]",
      "text/plain": [
       "<Figure size 640x480 with 1 Axes>"
      ]
     },
     "metadata": {},
     "output_type": "display_data"
    }
   ],
   "source": [
    "plt.plot(df)"
   ]
  },
  {
   "cell_type": "code",
   "execution_count": 10,
   "id": "20399304",
   "metadata": {},
   "outputs": [],
   "source": [
    "train_size = int(len(df) * 0.8)\n",
    "train_data = df.iloc[:train_size]\n",
    "test_data = df.iloc[train_size:]"
   ]
  },
  {
   "cell_type": "code",
   "execution_count": 11,
   "id": "b338237d",
   "metadata": {},
   "outputs": [],
   "source": [
    "scaler = MinMaxScaler(feature_range=(0, 1))\n",
    "train_data = scaler.fit_transform(train_data)\n",
    "test_data = scaler.transform(test_data)"
   ]
  },
  {
   "cell_type": "code",
   "execution_count": 12,
   "id": "593866b1",
   "metadata": {},
   "outputs": [],
   "source": [
    "def create_dataset(dataset, look_back=1):\n",
    "    X, y = [], []\n",
    "    for i in range(len(dataset)-look_back-1):\n",
    "        X.append(dataset[i:(i+look_back), 0])\n",
    "        y.append(dataset[i + look_back, 0])\n",
    "    return np.array(X), np.array(y)"
   ]
  },
  {
   "cell_type": "code",
   "execution_count": 13,
   "id": "76617715",
   "metadata": {},
   "outputs": [],
   "source": [
    "look_back = 60\n",
    "train_X, train_y = create_dataset(train_data, look_back)\n",
    "test_X, test_y = create_dataset(test_data, look_back)\n",
    "train_X = np.reshape(train_X, (train_X.shape[0], train_X.shape[1], 1))\n",
    "test_X = np.reshape(test_X, (test_X.shape[0], test_X.shape[1], 1))"
   ]
  },
  {
   "cell_type": "code",
   "execution_count": 14,
   "id": "eb0a7b45",
   "metadata": {},
   "outputs": [],
   "source": [
    "model = Sequential()\n",
    "model.add(LSTM(50, input_shape=(look_back, 1)))\n",
    "model.add(Dense(1))\n",
    "model.compile(loss='mean_squared_error', optimizer='adam')"
   ]
  },
  {
   "cell_type": "code",
   "execution_count": 15,
   "id": "f56e322a",
   "metadata": {},
   "outputs": [
    {
     "name": "stdout",
     "output_type": "stream",
     "text": [
      "Epoch 1/100\n",
      "113/113 [==============================] - 4s 17ms/step - loss: 0.0029\n",
      "Epoch 2/100\n",
      "113/113 [==============================] - 2s 17ms/step - loss: 2.6849e-04\n",
      "Epoch 3/100\n",
      "113/113 [==============================] - 2s 17ms/step - loss: 2.5857e-04\n",
      "Epoch 4/100\n",
      "113/113 [==============================] - 2s 17ms/step - loss: 2.4492e-04\n",
      "Epoch 5/100\n",
      "113/113 [==============================] - 2s 18ms/step - loss: 2.2668e-04\n",
      "Epoch 6/100\n",
      "113/113 [==============================] - 2s 18ms/step - loss: 2.0743e-04\n",
      "Epoch 7/100\n",
      "113/113 [==============================] - 2s 17ms/step - loss: 1.9972e-04\n",
      "Epoch 8/100\n",
      "113/113 [==============================] - 2s 17ms/step - loss: 1.8448e-04\n",
      "Epoch 9/100\n",
      "113/113 [==============================] - 2s 17ms/step - loss: 1.7048e-04\n",
      "Epoch 10/100\n",
      "113/113 [==============================] - 2s 17ms/step - loss: 1.6627e-04\n",
      "Epoch 11/100\n",
      "113/113 [==============================] - 2s 19ms/step - loss: 1.6095e-04\n",
      "Epoch 12/100\n",
      "113/113 [==============================] - 2s 20ms/step - loss: 1.5159e-04\n",
      "Epoch 13/100\n",
      "113/113 [==============================] - 2s 17ms/step - loss: 1.4775e-04\n",
      "Epoch 14/100\n",
      "113/113 [==============================] - 2s 17ms/step - loss: 1.3948e-04\n",
      "Epoch 15/100\n",
      "113/113 [==============================] - 2s 20ms/step - loss: 1.3875e-04\n",
      "Epoch 16/100\n",
      "113/113 [==============================] - 2s 20ms/step - loss: 1.3571e-04\n",
      "Epoch 17/100\n",
      "113/113 [==============================] - 3s 22ms/step - loss: 1.2700e-04\n",
      "Epoch 18/100\n",
      "113/113 [==============================] - 3s 24ms/step - loss: 1.2368e-04\n",
      "Epoch 19/100\n",
      "113/113 [==============================] - 2s 20ms/step - loss: 1.3613e-04\n",
      "Epoch 20/100\n",
      "113/113 [==============================] - 2s 20ms/step - loss: 1.2148e-04\n",
      "Epoch 21/100\n",
      "113/113 [==============================] - 2s 20ms/step - loss: 1.2172e-04\n",
      "Epoch 22/100\n",
      "113/113 [==============================] - 2s 22ms/step - loss: 1.1458e-04\n",
      "Epoch 23/100\n",
      "113/113 [==============================] - 3s 23ms/step - loss: 1.1646e-04\n",
      "Epoch 24/100\n",
      "113/113 [==============================] - 2s 21ms/step - loss: 1.1243e-04\n",
      "Epoch 25/100\n",
      "113/113 [==============================] - 2s 20ms/step - loss: 1.0716e-04\n",
      "Epoch 26/100\n",
      "113/113 [==============================] - 2s 20ms/step - loss: 1.1091e-04\n",
      "Epoch 27/100\n",
      "113/113 [==============================] - 3s 23ms/step - loss: 1.1113e-04\n",
      "Epoch 28/100\n",
      "113/113 [==============================] - 2s 22ms/step - loss: 1.0599e-04\n",
      "Epoch 29/100\n",
      "113/113 [==============================] - 2s 20ms/step - loss: 1.1021e-04\n",
      "Epoch 30/100\n",
      "113/113 [==============================] - 2s 20ms/step - loss: 1.0514e-04\n",
      "Epoch 31/100\n",
      "113/113 [==============================] - 2s 20ms/step - loss: 1.0172e-04\n",
      "Epoch 32/100\n",
      "113/113 [==============================] - 2s 20ms/step - loss: 9.7154e-05\n",
      "Epoch 33/100\n",
      "113/113 [==============================] - 2s 20ms/step - loss: 9.7825e-05\n",
      "Epoch 34/100\n",
      "113/113 [==============================] - 3s 25ms/step - loss: 9.3389e-05\n",
      "Epoch 35/100\n",
      "113/113 [==============================] - 2s 20ms/step - loss: 1.0103e-04\n",
      "Epoch 36/100\n",
      "113/113 [==============================] - 2s 22ms/step - loss: 9.6632e-05\n",
      "Epoch 37/100\n",
      "113/113 [==============================] - 2s 21ms/step - loss: 8.9900e-05\n",
      "Epoch 38/100\n",
      "113/113 [==============================] - 2s 20ms/step - loss: 9.5656e-05\n",
      "Epoch 39/100\n",
      "113/113 [==============================] - 2s 20ms/step - loss: 8.7363e-05\n",
      "Epoch 40/100\n",
      "113/113 [==============================] - 2s 21ms/step - loss: 8.5949e-05\n",
      "Epoch 41/100\n",
      "113/113 [==============================] - 2s 20ms/step - loss: 8.9251e-05\n",
      "Epoch 42/100\n",
      "113/113 [==============================] - 3s 24ms/step - loss: 8.5803e-05\n",
      "Epoch 43/100\n",
      "113/113 [==============================] - 2s 21ms/step - loss: 8.3382e-05\n",
      "Epoch 44/100\n",
      "113/113 [==============================] - 3s 23ms/step - loss: 8.6224e-05\n",
      "Epoch 45/100\n",
      "113/113 [==============================] - 3s 23ms/step - loss: 8.6423e-05\n",
      "Epoch 46/100\n",
      "113/113 [==============================] - 3s 22ms/step - loss: 7.8811e-05\n",
      "Epoch 47/100\n",
      "113/113 [==============================] - 3s 23ms/step - loss: 8.1154e-05\n",
      "Epoch 48/100\n",
      "113/113 [==============================] - 3s 23ms/step - loss: 8.0063e-05\n",
      "Epoch 49/100\n",
      "113/113 [==============================] - 3s 23ms/step - loss: 7.9442e-05\n",
      "Epoch 50/100\n",
      "113/113 [==============================] - 3s 23ms/step - loss: 7.9479e-05\n",
      "Epoch 51/100\n",
      "113/113 [==============================] - 3s 23ms/step - loss: 8.1989e-05\n",
      "Epoch 52/100\n",
      "113/113 [==============================] - 3s 23ms/step - loss: 8.0539e-05\n",
      "Epoch 53/100\n",
      "113/113 [==============================] - 3s 23ms/step - loss: 7.5787e-05\n",
      "Epoch 54/100\n",
      "113/113 [==============================] - 2s 21ms/step - loss: 8.4128e-05\n",
      "Epoch 55/100\n",
      "113/113 [==============================] - 2s 21ms/step - loss: 7.6755e-05\n",
      "Epoch 56/100\n",
      "113/113 [==============================] - 2s 21ms/step - loss: 7.4955e-05\n",
      "Epoch 57/100\n",
      "113/113 [==============================] - 2s 20ms/step - loss: 7.8212e-05\n",
      "Epoch 58/100\n",
      "113/113 [==============================] - 2s 21ms/step - loss: 8.3855e-05\n",
      "Epoch 59/100\n",
      "113/113 [==============================] - 2s 21ms/step - loss: 7.2419e-05\n",
      "Epoch 60/100\n",
      "113/113 [==============================] - 2s 22ms/step - loss: 7.6997e-05\n",
      "Epoch 61/100\n",
      "113/113 [==============================] - 2s 20ms/step - loss: 7.3378e-05\n",
      "Epoch 62/100\n",
      "113/113 [==============================] - 2s 20ms/step - loss: 7.5081e-05\n",
      "Epoch 63/100\n",
      "113/113 [==============================] - 2s 21ms/step - loss: 7.6609e-05\n",
      "Epoch 64/100\n",
      "113/113 [==============================] - 2s 20ms/step - loss: 7.6284e-05\n",
      "Epoch 65/100\n",
      "113/113 [==============================] - 2s 20ms/step - loss: 7.4551e-05\n",
      "Epoch 66/100\n",
      "113/113 [==============================] - 2s 21ms/step - loss: 7.8712e-05\n",
      "Epoch 67/100\n",
      "113/113 [==============================] - 2s 20ms/step - loss: 7.3507e-05\n",
      "Epoch 68/100\n",
      "113/113 [==============================] - 2s 20ms/step - loss: 7.4609e-05\n",
      "Epoch 69/100\n",
      "113/113 [==============================] - 2s 20ms/step - loss: 7.2848e-05\n",
      "Epoch 70/100\n",
      "113/113 [==============================] - 2s 20ms/step - loss: 7.5395e-05\n",
      "Epoch 71/100\n",
      "113/113 [==============================] - 2s 20ms/step - loss: 7.3236e-05\n",
      "Epoch 72/100\n",
      "113/113 [==============================] - 2s 20ms/step - loss: 7.3593e-05\n",
      "Epoch 73/100\n",
      "113/113 [==============================] - 2s 20ms/step - loss: 7.1332e-05\n",
      "Epoch 74/100\n",
      "113/113 [==============================] - 2s 20ms/step - loss: 7.2131e-05\n",
      "Epoch 75/100\n",
      "113/113 [==============================] - 2s 20ms/step - loss: 7.5607e-05\n",
      "Epoch 76/100\n",
      "113/113 [==============================] - 2s 21ms/step - loss: 7.1583e-05\n",
      "Epoch 77/100\n",
      "113/113 [==============================] - 2s 21ms/step - loss: 7.3982e-05\n",
      "Epoch 78/100\n",
      "113/113 [==============================] - 2s 21ms/step - loss: 7.3435e-05\n",
      "Epoch 79/100\n",
      "113/113 [==============================] - 2s 20ms/step - loss: 7.8986e-05\n",
      "Epoch 80/100\n",
      "113/113 [==============================] - 2s 20ms/step - loss: 7.1563e-05\n",
      "Epoch 81/100\n",
      "113/113 [==============================] - 2s 20ms/step - loss: 7.6081e-05\n",
      "Epoch 82/100\n",
      "113/113 [==============================] - 2s 19ms/step - loss: 7.4266e-05\n",
      "Epoch 83/100\n",
      "113/113 [==============================] - 2s 19ms/step - loss: 7.4161e-05\n",
      "Epoch 84/100\n",
      "113/113 [==============================] - 2s 19ms/step - loss: 7.3028e-05\n",
      "Epoch 85/100\n",
      "113/113 [==============================] - 2s 20ms/step - loss: 7.4010e-05\n",
      "Epoch 86/100\n",
      "113/113 [==============================] - 2s 20ms/step - loss: 7.2266e-05\n",
      "Epoch 87/100\n",
      "113/113 [==============================] - 2s 21ms/step - loss: 7.2487e-05\n",
      "Epoch 88/100\n",
      "113/113 [==============================] - 2s 21ms/step - loss: 7.1995e-05\n",
      "Epoch 89/100\n",
      "113/113 [==============================] - 2s 20ms/step - loss: 7.2083e-05\n",
      "Epoch 90/100\n",
      "113/113 [==============================] - 2s 20ms/step - loss: 8.0290e-05\n",
      "Epoch 91/100\n",
      "113/113 [==============================] - 2s 20ms/step - loss: 7.6531e-05\n",
      "Epoch 92/100\n",
      "113/113 [==============================] - 2s 20ms/step - loss: 7.2169e-05\n",
      "Epoch 93/100\n",
      "113/113 [==============================] - 2s 21ms/step - loss: 7.3419e-05\n",
      "Epoch 94/100\n",
      "113/113 [==============================] - 2s 20ms/step - loss: 7.2619e-05\n",
      "Epoch 95/100\n",
      "113/113 [==============================] - 2s 20ms/step - loss: 7.6992e-05\n",
      "Epoch 96/100\n",
      "113/113 [==============================] - 2s 20ms/step - loss: 7.2523e-05\n",
      "Epoch 97/100\n",
      "113/113 [==============================] - 2s 20ms/step - loss: 7.2432e-05\n",
      "Epoch 98/100\n",
      "113/113 [==============================] - 2s 20ms/step - loss: 7.6732e-05\n",
      "Epoch 99/100\n",
      "113/113 [==============================] - 2s 20ms/step - loss: 7.1748e-05\n",
      "Epoch 100/100\n",
      "113/113 [==============================] - 2s 20ms/step - loss: 7.2317e-05\n"
     ]
    },
    {
     "data": {
      "text/plain": [
       "<keras.callbacks.History at 0x2856070bc70>"
      ]
     },
     "execution_count": 15,
     "metadata": {},
     "output_type": "execute_result"
    }
   ],
   "source": [
    "model.fit(train_X, train_y, epochs=100, batch_size=64)"
   ]
  },
  {
   "cell_type": "code",
   "execution_count": 16,
   "id": "784a6d5d",
   "metadata": {},
   "outputs": [
    {
     "name": "stdout",
     "output_type": "stream",
     "text": [
      "55/55 [==============================] - 1s 5ms/step\n"
     ]
    }
   ],
   "source": [
    "test_predict = model.predict(test_X)"
   ]
  },
  {
   "cell_type": "code",
   "execution_count": 17,
   "id": "894d0ee2",
   "metadata": {},
   "outputs": [],
   "source": [
    "test_predict = scaler.inverse_transform(test_predict)\n",
    "test_y = scaler.inverse_transform([test_y])"
   ]
  },
  {
   "cell_type": "code",
   "execution_count": 18,
   "id": "5c632856",
   "metadata": {},
   "outputs": [
    {
     "data": {
      "image/png": "[encoded data removed]",
      "text/plain": [
       "<Figure size 640x480 with 1 Axes>"
      ]
     },
     "metadata": {},
     "output_type": "display_data"
    }
   ],
   "source": [
    "plt.plot(test_y[0], label='Actual')\n",
    "plt.plot(test_predict[:,0], label='Predicted')\n",
    "plt.legend()\n",
    "plt.show()"
   ]
  },
  {
   "cell_type": "code",
   "execution_count": 20,
   "id": "fcbc4163",
   "metadata": {},
   "outputs": [
    {
     "name": "stdout",
     "output_type": "stream",
     "text": [
      "MSE: 591.53\n",
      "MAE: 13.91\n",
      "RMSE: 24.32\n",
      "R-squared: 0.92\n"
     ]
    }
   ],
   "source": [
    "from sklearn.metrics import mean_squared_error, mean_absolute_error, r2_score\n",
    "\n",
    "\n",
    "# Evaluate model using metrics\n",
    "mse = mean_squared_error(test_y[0], test_predict[:,0])\n",
    "mae = mean_absolute_error(test_y[0], test_predict[:,0])\n",
    "rmse = np.sqrt(mse)\n",
    "r2 = r2_score(test_y[0], test_predict[:,0])\n",
    "\n",
    "print('MSE: %.2f' % mse)\n",
    "print('MAE: %.2f' % mae)\n",
    "print('RMSE: %.2f' % rmse)\n",
    "print('R-squared: %.2f' % r2)"
   ]
  },
  {
   "cell_type": "code",
   "execution_count": null,
   "id": "078a2810",
   "metadata": {},
   "outputs": [],
   "source": []
  }
 ],
 "metadata": {
  "kernelspec": {
   "display_name": "Python 3 (ipykernel)",
   "language": "python",
   "name": "python3"
  },
  "language_info": {
   "codemirror_mode": {
    "name": "ipython",
    "version": 3
   },
   "file_extension": ".py",
   "mimetype": "text/x-python",
   "name": "python",
   "nbconvert_exporter": "python",
   "pygments_lexer": "ipython3",
   "version": "3.9.12"
  }
 },
 "nbformat": 4,
 "nbformat_minor": 5
}
